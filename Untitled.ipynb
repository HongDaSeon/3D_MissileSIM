{
 "cells": [
  {
   "cell_type": "code",
   "execution_count": 2,
   "metadata": {},
   "outputs": [
    {
     "data": {
      "text/html": [
       "<div id=\"glowscript\" class=\"glowscript\"></div>"
      ],
      "text/plain": [
       "<IPython.core.display.HTML object>"
      ]
     },
     "metadata": {},
     "output_type": "display_data"
    },
    {
     "data": {
      "application/javascript": [
       "if (typeof Jupyter !== \"undefined\") { window.__context = { glowscript_container: $(\"#glowscript\").removeAttr(\"id\")};}else{ element.textContent = ' ';}"
      ],
      "text/plain": [
       "<IPython.core.display.Javascript object>"
      ]
     },
     "metadata": {},
     "output_type": "display_data"
    }
   ],
   "source": [
    "# FDC Laboratory\n",
    "\n",
    "\n",
    "import rospy                                          \n",
    "import PSpincalc as spin\n",
    "from pyquaternion import Quaternion\n",
    "import numpy as np\n",
    "import torch\n",
    "import torch.nn as nn\n",
    "import math as m\n",
    "import torch.nn.functional as F\n",
    "import torch.optim as optim\n",
    "import time\n",
    "import copy\n",
    "import pickle\n",
    "\n",
    "from torch.distributions import Normal\n",
    "from sensor_msgs.msg import Imu                                                     \n",
    "from gazebo_msgs.msg import LinkState                                               \n",
    "from collections import namedtuple\n",
    "\n",
    "import matplotlib.pyplot as plt\n",
    "import random as rd        \n",
    "import vpython as vp       \n",
    "import pdb "
   ]
  },
  {
   "cell_type": "code",
   "execution_count": 4,
   "metadata": {},
   "outputs": [],
   "source": [
    "def euler_to_quaternion(att):\n",
    "\n",
    "        roll = att.x\n",
    "        pitch = att.y\n",
    "        yaw = att.z\n",
    "\n",
    "        qx = np.sin(roll/2) * np.cos(pitch/2) * np.cos(yaw/2) - np.cos(roll/2) * np.sin(pitch/2) * np.sin(yaw/2)\n",
    "        qy = np.cos(roll/2) * np.sin(pitch/2) * np.cos(yaw/2) + np.sin(roll/2) * np.cos(pitch/2) * np.sin(yaw/2)\n",
    "        qz = np.cos(roll/2) * np.cos(pitch/2) * np.sin(yaw/2) - np.sin(roll/2) * np.sin(pitch/2) * np.cos(yaw/2)\n",
    "        qw = np.cos(roll/2) * np.cos(pitch/2) * np.cos(yaw/2) + np.sin(roll/2) * np.sin(pitch/2) * np.sin(yaw/2)\n",
    "\n",
    "        return [qx, qy, qz, qw]\n",
    "\n",
    "def RotationQuaternion(att, option=\"n_b\"):\n",
    "    _qx = Quaternion(axis=[1, 0, 0], angle=att[0])\n",
    "    _qy = Quaternion(axis=[0, 1, 0], angle=att[1])\n",
    "    _qz = Quaternion(axis=[0, 0, 1], angle=att[2])\n",
    "    return _qz*_qy*_qx"
   ]
  },
  {
   "cell_type": "code",
   "execution_count": 26,
   "metadata": {},
   "outputs": [],
   "source": [
    "att = np.array([20.,10.,15.])*m.pi/180\n",
    "\n",
    "Cpsi = np.array([[m.cos(att[2]), -m.sin(att[2]), 0.],\n",
    "                 [m.sin(att[2]),  m.cos(att[2]), 0.],\n",
    "                 [0.           ,  0.           , 1.]])\n",
    "\n",
    "Cthe = np.array([[m.cos(att[1]),  0., m.sin(att[1])],\n",
    "                 [0.           ,  1.,            0.],\n",
    "                 [-m.sin(att[1]), 0., m.cos(att[1])]])\n",
    "\n",
    "Cphi = np.array([[1.            ,  0.           , 0.],\n",
    "                 [0.,  m.cos(att[0]), -m.sin(att[0])],\n",
    "                 [0.,  m.sin(att[0]),  m.cos(att[0])]])\n",
    "DCM_Calc = np.matmul(np.matmul(Cpsi, Cthe), Cphi)"
   ]
  },
  {
   "cell_type": "code",
   "execution_count": 27,
   "metadata": {},
   "outputs": [
    {
     "name": "stdout",
     "output_type": "stream",
     "text": [
      "[[ 0.95125124 -0.18584288  0.24613715]\n",
      " [ 0.254887    0.92304494 -0.28813306]\n",
      " [-0.17364818  0.33682409  0.92541658]]\n"
     ]
    }
   ],
   "source": [
    "print(DCM_Calc) #Cnb"
   ]
  },
  {
   "cell_type": "code",
   "execution_count": 28,
   "metadata": {},
   "outputs": [],
   "source": [
    "DCM_Spin = spin.EA2DCM([att[2],att[1],att[0]]) #Cbn"
   ]
  },
  {
   "cell_type": "code",
   "execution_count": 29,
   "metadata": {},
   "outputs": [
    {
     "name": "stdout",
     "output_type": "stream",
     "text": [
      "[[ 0.95125124  0.254887   -0.17364818]\n",
      " [-0.18584288  0.92304494  0.33682409]\n",
      " [ 0.24613715 -0.28813306  0.92541658]]\n"
     ]
    }
   ],
   "source": [
    "print(DCM_Spin)"
   ]
  },
  {
   "cell_type": "code",
   "execution_count": 30,
   "metadata": {},
   "outputs": [],
   "source": [
    "Q = RotationQuaternion(att)"
   ]
  },
  {
   "cell_type": "code",
   "execution_count": 37,
   "metadata": {},
   "outputs": [
    {
     "name": "stdout",
     "output_type": "stream",
     "text": [
      "[[ 0.95125124  0.254887   -0.17364818]\n",
      " [-0.18584288  0.92304494  0.33682409]\n",
      " [ 0.24613715 -0.28813306  0.92541658]]\n"
     ]
    }
   ],
   "source": [
    "print(spin.Q2DCM([Q.w,Q.x,Q.y,Q.z]))"
   ]
  },
  {
   "cell_type": "code",
   "execution_count": 39,
   "metadata": {},
   "outputs": [
    {
     "name": "stdout",
     "output_type": "stream",
     "text": [
      "[0.57956549 2.10097688 0.5       ]\n",
      "[ 1.46102525  1.660247   -0.33012896]\n",
      "[0.5795654877871996, 2.1009768788270815, 0.4999999999999999]\n",
      "[1.4610252470525555, 1.6602469991944038, -0.33012895834960815]\n"
     ]
    }
   ],
   "source": [
    "VEC = [1,2,0]\n",
    "print(np.matmul(DCM_Calc,VEC))\n",
    "print(np.matmul(DCM_Spin,VEC))\n",
    "print(Q.rotate(VEC))\n",
    "print(Q.inverse.rotate(VEC))"
   ]
  },
  {
   "cell_type": "code",
   "execution_count": null,
   "metadata": {},
   "outputs": [],
   "source": []
  }
 ],
 "metadata": {
  "kernelspec": {
   "display_name": "Python 3",
   "language": "python",
   "name": "python3"
  },
  "language_info": {
   "codemirror_mode": {
    "name": "ipython",
    "version": 3
   },
   "file_extension": ".py",
   "mimetype": "text/x-python",
   "name": "python",
   "nbconvert_exporter": "python",
   "pygments_lexer": "ipython3",
   "version": "3.8.2"
  }
 },
 "nbformat": 4,
 "nbformat_minor": 4
}
